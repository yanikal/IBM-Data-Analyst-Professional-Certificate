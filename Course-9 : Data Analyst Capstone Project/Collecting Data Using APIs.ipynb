{
    "cells": [
        {
            "cell_type": "markdown",
            "metadata": {},
            "source": "<center>\n    <img src=\"https://cf-courses-data.s3.us.cloud-object-storage.appdomain.cloud/IBM-DA0321EN-SkillsNetwork/labs/module%201/images/IDSNlogo.png\" width=\"300\" alt=\"cognitiveclass.ai logo\"  />\n</center>\n"
        },
        {
            "cell_type": "markdown",
            "metadata": {},
            "source": "# **Collecting Job Data Using APIs**\n"
        },
        {
            "cell_type": "markdown",
            "metadata": {},
            "source": "Estimated time needed: **45 to 60** minutes\n"
        },
        {
            "cell_type": "markdown",
            "metadata": {},
            "source": "## Objectives\n"
        },
        {
            "cell_type": "markdown",
            "metadata": {},
            "source": "After completing this lab, you will be able to:\n"
        },
        {
            "cell_type": "markdown",
            "metadata": {},
            "source": "*   Collect job data from Jobs API\n*   Store the collected data into an excel spreadsheet.\n"
        },
        {
            "cell_type": "markdown",
            "metadata": {},
            "source": "> <strong>Note: Before starting with the assignment make sure to read all the instructions and then move ahead with the coding part.</strong>\n"
        },
        {
            "cell_type": "markdown",
            "metadata": {},
            "source": "#### Instructions\n"
        },
        {
            "cell_type": "markdown",
            "metadata": {},
            "source": "To run the actual lab, firstly you need to click on the [Jobs_API](https://cf-courses-data.s3.us.cloud-object-storage.appdomain.cloud/IBM-DA0321EN-SkillsNetwork/labs/module%201/Accessing%20Data%20Using%20APIs/Jobs_API.ipynb) notebook link. The file contains flask code which is required to run the Jobs API data.\n\nNow, to run the code in the file that opens up follow the below steps.\n\nStep1: Download the file.\n\nStep2: Upload it on the IBM Watson studio. (If IBM Watson Cloud service does not work in your system, follow the alternate Step 2 below)\n\nStep2(alternate): Upload it in your SN labs environment using the upload button which is highlighted in red in the image below:\nRemember to upload this Jobs_API file in the same folder as your current .ipynb file\n\n<img src=\"https://cf-courses-data.s3.us.cloud-object-storage.appdomain.cloud/IBM-DA0321EN-SkillsNetwork/labs/module%201/Accessing%20Data%20Using%20APIs/Upload.PNG\" />\n\nStep3:  Run all the cells of the Jobs_API file. (Even if you receive an asterik sign after running the last cell, the code works fine.)\n\nIf you want to learn more about flask, which is optional, you can click on this link [here](https://cf-courses-data.s3.us.cloud-object-storage.appdomain.cloud/IBM-DA0321EN-SkillsNetwork/labs/module%201/Accessing%20Data%20Using%20APIs/FLASK_API.md.html).\n\nOnce you run the flask code, you can start with your assignment.\n"
        },
        {
            "cell_type": "markdown",
            "metadata": {},
            "source": "## Dataset Used in this Assignment\n\nThe dataset used in this lab comes from the following source: [https://www.kaggle.com/promptcloud/jobs-on-naukricom](https://www.kaggle.com/promptcloud/jobs-on-naukricom?utm_medium=Exinfluencer&utm_source=Exinfluencer&utm_content=000026UJ&utm_term=10006555&utm_id=NA-SkillsNetwork-Channel-SkillsNetworkCoursesIBMDA0321ENSkillsNetwork21426264-2021-01-01) under the under a **Public Domain license**.\n\n> Note: We are using a modified subset of that dataset for the lab, so to follow the lab instructions successfully please use the dataset provided with the lab, rather than the dataset from the original source.\n\nThe original dataset is a csv. We have converted the csv to json as per the requirement of the lab.\n"
        },
        {
            "cell_type": "markdown",
            "metadata": {},
            "source": "## Warm-Up Exercise\n"
        },
        {
            "cell_type": "markdown",
            "metadata": {},
            "source": "Before you attempt the actual lab, here is a fully solved warmup exercise that will help you to learn how to access an API.\n"
        },
        {
            "cell_type": "markdown",
            "metadata": {},
            "source": "Using an API, let us find out who currently are on the International Space Station (ISS).<br> The API at [http://api.open-notify.org/astros.json](http://api.open-notify.org/astros.json?utm_medium=Exinfluencer&utm_source=Exinfluencer&utm_content=000026UJ&utm_term=10006555&utm_id=NA-SkillsNetwork-Channel-SkillsNetworkCoursesIBMDA0321ENSkillsNetwork21426264-2021-01-01&cm_mmc=Email_Newsletter-\\_-Developer_Ed%2BTech-\\_-WW_WW-\\_-SkillsNetwork-Courses-IBM-DA0321EN-SkillsNetwork-21426264&cm_mmca1=000026UJ&cm_mmca2=10006555&cm_mmca3=M12345678&cvosrc=email.Newsletter.M12345678&cvo_campaign=000026UJ) gives us the information of astronauts currently on ISS in json format.<br>\nYou can read more about this API at [http://open-notify.org/Open-Notify-API/People-In-Space/](http://open-notify.org/Open-Notify-API/People-In-Space?utm_medium=Exinfluencer&utm_source=Exinfluencer&utm_content=000026UJ&utm_term=10006555&utm_id=NA-SkillsNetwork-Channel-SkillsNetworkCoursesIBMDA0321ENSkillsNetwork21426264-2021-01-01&cm_mmc=Email_Newsletter-\\_-Developer_Ed%2BTech-\\_-WW_WW-\\_-SkillsNetwork-Courses-IBM-DA0321EN-SkillsNetwork-21426264&cm_mmca1=000026UJ&cm_mmca2=10006555&cm_mmca3=M12345678&cvosrc=email.Newsletter.M12345678&cvo_campaign=000026UJ)\n"
        },
        {
            "cell_type": "code",
            "execution_count": 1,
            "metadata": {},
            "outputs": [],
            "source": "import requests # you need this module to make an API call\nimport pandas as pd"
        },
        {
            "cell_type": "code",
            "execution_count": 2,
            "metadata": {},
            "outputs": [],
            "source": "api_url = \"http://api.open-notify.org/astros.json\" # this url gives use the astronaut data"
        },
        {
            "cell_type": "code",
            "execution_count": 3,
            "metadata": {},
            "outputs": [],
            "source": "response = requests.get(api_url) # Call the API using the get method and store the\n                                # output of the API call in a variable called response."
        },
        {
            "cell_type": "code",
            "execution_count": 4,
            "metadata": {},
            "outputs": [],
            "source": "if response.ok:             # if all is well() no errors, no network timeouts)\n    data = response.json()  # store the result in json format in a variable called data\n                            # the variable data is of type dictionary."
        },
        {
            "cell_type": "code",
            "execution_count": 5,
            "metadata": {},
            "outputs": [
                {
                    "data": {
                        "text/plain": "{'people': [{'craft': 'ISS', 'name': 'Mark Vande Hei'},\n  {'craft': 'ISS', 'name': 'Pyotr Dubrov'},\n  {'craft': 'ISS', 'name': 'Anton Shkaplerov'},\n  {'craft': 'Shenzhou 13', 'name': 'Zhai Zhigang'},\n  {'craft': 'Shenzhou 13', 'name': 'Wang Yaping'},\n  {'craft': 'Shenzhou 13', 'name': 'Ye Guangfu'},\n  {'craft': 'ISS', 'name': 'Raja Chari'},\n  {'craft': 'ISS', 'name': 'Tom Marshburn'},\n  {'craft': 'ISS', 'name': 'Kayla Barron'},\n  {'craft': 'ISS', 'name': 'Matthias Maurer'}],\n 'message': 'success',\n 'number': 10}"
                    },
                    "execution_count": 5,
                    "metadata": {},
                    "output_type": "execute_result"
                }
            ],
            "source": "data"
        },
        {
            "cell_type": "code",
            "execution_count": 6,
            "metadata": {},
            "outputs": [
                {
                    "name": "stdout",
                    "output_type": "stream",
                    "text": "{'people': [{'craft': 'ISS', 'name': 'Mark Vande Hei'}, {'craft': 'ISS', 'name': 'Pyotr Dubrov'}, {'craft': 'ISS', 'name': 'Anton Shkaplerov'}, {'craft': 'Shenzhou 13', 'name': 'Zhai Zhigang'}, {'craft': 'Shenzhou 13', 'name': 'Wang Yaping'}, {'craft': 'Shenzhou 13', 'name': 'Ye Guangfu'}, {'craft': 'ISS', 'name': 'Raja Chari'}, {'craft': 'ISS', 'name': 'Tom Marshburn'}, {'craft': 'ISS', 'name': 'Kayla Barron'}, {'craft': 'ISS', 'name': 'Matthias Maurer'}], 'message': 'success', 'number': 10}\n"
                }
            ],
            "source": "print(data)   # print the data just to check the output or for debugging"
        },
        {
            "cell_type": "markdown",
            "metadata": {},
            "source": "Print the number of astronauts currently on ISS.\n"
        },
        {
            "cell_type": "code",
            "execution_count": 11,
            "metadata": {},
            "outputs": [
                {
                    "name": "stdout",
                    "output_type": "stream",
                    "text": "10\n[{'craft': 'ISS', 'name': 'Mark Vande Hei'}, {'craft': 'ISS', 'name': 'Pyotr Dubrov'}, {'craft': 'ISS', 'name': 'Anton Shkaplerov'}, {'craft': 'Shenzhou 13', 'name': 'Zhai Zhigang'}, {'craft': 'Shenzhou 13', 'name': 'Wang Yaping'}, {'craft': 'Shenzhou 13', 'name': 'Ye Guangfu'}, {'craft': 'ISS', 'name': 'Raja Chari'}, {'craft': 'ISS', 'name': 'Tom Marshburn'}, {'craft': 'ISS', 'name': 'Kayla Barron'}, {'craft': 'ISS', 'name': 'Matthias Maurer'}]\n"
                }
            ],
            "source": "print(data.get('number'))\n\nprint(data.get('people'))"
        },
        {
            "cell_type": "markdown",
            "metadata": {},
            "source": "Print the names of the astronauts currently on ISS.\n"
        },
        {
            "cell_type": "code",
            "execution_count": 8,
            "metadata": {},
            "outputs": [
                {
                    "name": "stdout",
                    "output_type": "stream",
                    "text": "There are 10 astronauts on ISS\nAnd their names are :\nMark Vande Hei\nPyotr Dubrov\nAnton Shkaplerov\nZhai Zhigang\nWang Yaping\nYe Guangfu\nRaja Chari\nTom Marshburn\nKayla Barron\nMatthias Maurer\n"
                }
            ],
            "source": "astronauts = data.get('people')\nprint(\"There are {} astronauts on ISS\".format(len(astronauts)))\nprint(\"And their names are :\")\nfor astronaut in astronauts:\n    print(astronaut.get('name'))"
        },
        {
            "cell_type": "markdown",
            "metadata": {},
            "source": "Hope the warmup was helpful. Good luck with your next lab!\n"
        },
        {
            "cell_type": "markdown",
            "metadata": {},
            "source": "## Lab: Collect Jobs Data using Jobs API\n"
        },
        {
            "cell_type": "markdown",
            "metadata": {},
            "source": "### Objective: Determine the number of jobs currently open for various technologies  and for various locations\n"
        },
        {
            "cell_type": "markdown",
            "metadata": {},
            "source": "Collect the number of job postings for the following locations using the API:\n\n*   Los Angeles\n*   New York\n*   San Francisco\n*   Washington DC\n*   Seattle\n*   Austin\n*   Detroit\n"
        },
        {
            "cell_type": "code",
            "execution_count": 3,
            "metadata": {},
            "outputs": [],
            "source": "#Import required libraries\nimport pandas as pd\nimport json"
        },
        {
            "cell_type": "markdown",
            "metadata": {},
            "source": "#### Write a function to get the number of jobs for the Python technology.<br>\n\n> Note: While using the lab you need to pass the **payload** information for the **params** attribute in the form of **key** **value** pairs.\n\nRefer the ungraded **rest api lab** in the course **Python for Data Science, AI & Development**  <a href=\"https://www.coursera.org/learn/python-for-applied-data-science-ai/ungradedLti/P6sW8/hands-on-lab-access-rest-apis-request-http?utm_medium=Exinfluencer&utm_source=Exinfluencer&utm_content=000026UJ&utm_term=10006555&utm_id=NA-SkillsNetwork-Channel-SkillsNetworkCoursesIBMDA0321ENSkillsNetwork21426264-2021-01-01\">link</a>\n\n##### The keys in the json are\n\n*   Job Title\n\n*   Job Experience Required\n\n*   Key Skills\n\n*   Role Category\n\n*   Location\n\n*   Functional Area\n\n*   Industry\n\n*   Role\n\nYou can also view  the json file contents  from the following <a href = \"https://cf-courses-data.s3.us.cloud-object-storage.appdomain.cloud/IBM-DA0321EN-SkillsNetwork/labs/module%201/Accessing%20Data%20Using%20APIs/jobs.json?utm_medium=Exinfluencer&utm_source=Exinfluencer&utm_content=000026UJ&utm_term=10006555&utm_id=NA-SkillsNetwork-Channel-SkillsNetworkCoursesIBMDA0321ENSkillsNetwork21426264-2021-01-01\">json</a> URL.\n"
        },
        {
            "cell_type": "code",
            "execution_count": 4,
            "metadata": {},
            "outputs": [],
            "source": "api_url=\"http://127.0.0.1:5000/data\"\ndef get_number_of_jobs_T(technology):\n    payload={\"Key Skills\": technology}\n    response=requests.get(api_url, params=payload)\n    if response.ok:\n        data=response.json()\n#         print(data)\n        number_of_jobs = len(data)\n    \n    return technology,number_of_jobs"
        },
        {
            "cell_type": "markdown",
            "metadata": {},
            "source": "Calling the function for Python and checking if it works.\n"
        },
        {
            "cell_type": "code",
            "execution_count": 10,
            "metadata": {},
            "outputs": [
                {
                    "data": {
                        "text/plain": "('Python', 1173)"
                    },
                    "execution_count": 10,
                    "metadata": {},
                    "output_type": "execute_result"
                }
            ],
            "source": "get_number_of_jobs_T(\"Python\")"
        },
        {
            "cell_type": "markdown",
            "metadata": {},
            "source": "#### Write a function to find number of jobs in US for a location of your choice\n"
        },
        {
            "cell_type": "code",
            "execution_count": 11,
            "metadata": {},
            "outputs": [],
            "source": "def get_number_of_jobs_L(location):\n    payload={\"Location\":location}\n    response=requests.get(api_url, params=payload)\n    if response.ok:\n        data=response.json()\n#         print(data)\n        number_of_jobs = len(data)\n\n    return location,number_of_jobs"
        },
        {
            "cell_type": "code",
            "execution_count": 12,
            "metadata": {},
            "outputs": [
                {
                    "data": {
                        "text/plain": "('Los Angeles', 640)"
                    },
                    "execution_count": 12,
                    "metadata": {},
                    "output_type": "execute_result"
                }
            ],
            "source": "get_number_of_jobs_L(\"Los Angeles\")"
        },
        {
            "cell_type": "markdown",
            "metadata": {},
            "source": "Call the function for Los Angeles and check if it is working.\n"
        },
        {
            "cell_type": "code",
            "execution_count": 13,
            "metadata": {},
            "outputs": [],
            "source": "locations=[\"Los Angeles\", \"New York\", \"San Francisco\", \"Washington DC\", \"Seattle\"]\n\ndef get_number_of_jobs_Loc_list(locations):\n    number_of_jobs_list = []\n    for location in locations:\n        payload={\"Location\":location}\n        response=requests.get(api_url, params=payload)\n        if response.ok:\n            data=response.json()\n            number_of_jobs = len(data)\n            number_of_jobs_list.append({location: number_of_jobs})\n            \n    return number_of_jobs_list"
        },
        {
            "cell_type": "code",
            "execution_count": 14,
            "metadata": {},
            "outputs": [
                {
                    "data": {
                        "text/plain": "[{'Los Angeles': 640},\n {'New York': 3226},\n {'San Francisco': 435},\n {'Washington DC': 5316},\n {'Seattle': 3375}]"
                    },
                    "execution_count": 14,
                    "metadata": {},
                    "output_type": "execute_result"
                }
            ],
            "source": "#your code goes here\nget_number_of_jobs_Loc_list(locations)"
        },
        {
            "cell_type": "markdown",
            "metadata": {},
            "source": "### Store the results in an excel file\n"
        },
        {
            "cell_type": "markdown",
            "metadata": {},
            "source": "Call the API for all the given technologies above and write the results in an excel spreadsheet.\n"
        },
        {
            "cell_type": "markdown",
            "metadata": {},
            "source": "If you do not know how create excel file using python, double click here for **hints**.\n\n<!--\n\nfrom openpyxl import Workbook        # import Workbook class from module openpyxl\nwb=Workbook()                        # create a workbook object\nws=wb.active                         # use the active worksheet\nws.append(['Country','Continent'])   # add a row with two columns 'Country' and 'Continent'\nws.append(['Eygpt','Africa'])        # add a row with two columns 'Egypt' and 'Africa'\nws.append(['India','Asia'])          # add another row\nws.append(['France','Europe'])       # add another row\nwb.save(\"countries.xlsx\")            # save the workbook into a file called countries.xlsx\n\n\n -->\n"
        },
        {
            "cell_type": "markdown",
            "metadata": {},
            "source": "Create a python list of all locations for which you need to find the number of jobs postings.\n"
        },
        {
            "cell_type": "code",
            "execution_count": 15,
            "metadata": {},
            "outputs": [],
            "source": "#your code goes here\ncountries = ['Los Angeles', 'New York', 'San Francisco', 'Washington DC', 'Seattle', 'Austin', 'Detroit']"
        },
        {
            "cell_type": "markdown",
            "metadata": {},
            "source": "Import libraries required to create excel spreadsheet\n"
        },
        {
            "cell_type": "code",
            "execution_count": 19,
            "metadata": {},
            "outputs": [],
            "source": "# your code goes here\nfrom openpyxl import Workbook"
        },
        {
            "cell_type": "markdown",
            "metadata": {},
            "source": "Create a workbook and select the active worksheet\n"
        },
        {
            "cell_type": "code",
            "execution_count": 57,
            "metadata": {},
            "outputs": [],
            "source": "# your code goes here\nwb=Workbook()\nws=wb.active\nws.append(countries)"
        },
        {
            "cell_type": "markdown",
            "metadata": {},
            "source": "Find the number of jobs postings for each of the location in the above list.\nWrite the Location name and the number of jobs postings into the excel spreadsheet.\n"
        },
        {
            "cell_type": "code",
            "execution_count": 16,
            "metadata": {},
            "outputs": [
                {
                    "data": {
                        "text/plain": "[24, 143, 17, 258, 133, 15, 170]"
                    },
                    "execution_count": 16,
                    "metadata": {},
                    "output_type": "execute_result"
                }
            ],
            "source": "#your code goes here\ndef get_number_of_jobs_TL(technology, countries):\n    number_of_jobs_list = []\n    for location in countries:\n        payload={\"Key Skills\": technology, \"Location\": location}\n        response=requests.get(api_url, params=payload)\n        if response.ok:\n            data=response.json()\n            number_of_jobs = len(data)\n            number_of_jobs_list.append(number_of_jobs)\n    return number_of_jobs_list\n#     return ws.append(number_of_jobs_list)\n\nget_number_of_jobs_TL(\"Python\", countries)"
        },
        {
            "cell_type": "markdown",
            "metadata": {},
            "source": "Save into an excel spreadsheet named 'job-postings.xlsx'.\n"
        },
        {
            "cell_type": "code",
            "execution_count": 14,
            "metadata": {},
            "outputs": [],
            "source": "#your code goes here\nwb.save('job-postings.xlsx')"
        },
        {
            "cell_type": "markdown",
            "metadata": {},
            "source": "#### In the similar way, you can try for below given technologies and results  can be stored in an excel sheet.\n"
        },
        {
            "cell_type": "markdown",
            "metadata": {},
            "source": "Collect the number of job postings for the following languages using the API:\n\n*   C\n*   C#\n*   C++\n*   Java\n*   JavaScript\n*   Python\n*   Scala\n*   Oracle\n*   SQL Server\n*   MySQL Server\n*   PostgreSQL\n*   MongoDB\n"
        },
        {
            "cell_type": "code",
            "execution_count": 22,
            "metadata": {},
            "outputs": [
                {
                    "data": {
                        "text/plain": "[[' C ', 0, 0, 0, 1, 1, 0, 1],\n [' C|', 9, 68, 12, 111, 62, 18, 71],\n ['C#', 5, 41, 3, 68, 49, 5, 60],\n ['c#', 2, 21, 6, 40, 25, 4, 27],\n ['C++', 3, 43, 3, 55, 41, 4, 32],\n ['c++', 4, 24, 5, 37, 22, 4, 27],\n ['Java ', 5, 12, 2, 21, 17, 2, 11],\n ['Java|', 17, 121, 12, 209, 132, 9, 143],\n ['java|', 15, 55, 7, 83, 63, 5, 71],\n ['java ', 0, 3, 0, 7, 6, 1, 10],\n ['JAVA ', 0, 0, 0, 1, 0, 0, 0],\n ['JAVA|', 0, 4, 0, 7, 5, 0, 4],\n ['JavaScript', 7, 51, 7, 61, 52, 5, 41],\n ['Javascript', 26, 183, 22, 290, 192, 19, 189],\n ['javascript', 14, 52, 7, 76, 57, 5, 63],\n ['Python', 24, 143, 17, 258, 133, 15, 170],\n ['Scala', 0, 8, 0, 3, 4, 1, 5],\n ['SCALA', 0, 6, 1, 6, 7, 2, 13],\n ['scala', 1, 5, 0, 12, 1, 0, 7],\n ['Oracle', 17, 95, 19, 143, 110, 11, 115],\n ['oracle', 6, 18, 0, 21, 16, 2, 16],\n [' SQL Server', 2, 34, 2, 47, 26, 5, 28],\n [' sql', 14, 55, 7, 72, 45, 4, 46],\n [' SQL', 28, 214, 22, 333, 197, 30, 216],\n ['|sql', 0, 4, 0, 6, 1, 0, 3],\n ['|SQL', 1, 8, 1, 22, 9, 0, 16],\n ['MySQL', 20, 93, 20, 132, 97, 13, 93],\n ['mysql', 2, 25, 4, 29, 24, 4, 30],\n ['Mysql', 0, 0, 0, 0, 2, 0, 1],\n ['PostgreSQL', 0, 1, 0, 3, 1, 0, 2],\n ['PostGreSQL', 0, 0, 0, 0, 1, 0, 0],\n ['postgresql', 0, 1, 1, 3, 3, 0, 1],\n ['MongoDB', 2, 25, 2, 32, 21, 1, 25],\n ['mongodb', 2, 4, 0, 3, 3, 0, 5],\n ['MongoDb', 0, 1, 0, 1, 0, 0, 1]]"
                    },
                    "execution_count": 22,
                    "metadata": {},
                    "output_type": "execute_result"
                }
            ],
            "source": "# your code goes here\ntechnologies = [' C ', ' C|', 'C#', 'c#', 'C++', 'c++', 'Java ', 'Java|', 'java|','java ', 'JAVA ', 'JAVA|', 'JavaScript', 'Javascript','javascript', 'Python', 'Scala', 'SCALA', 'scala', 'Oracle', 'oracle', \\\n                ' SQL Server', ' sql', ' SQL', '|sql', '|SQL', 'MySQL', 'mysql', 'Mysql','PostgreSQL', 'PostGreSQL','postgresql','MongoDB', 'mongodb', 'MongoDb']\n\ndef get_number_of_jobs_TL(technologies, countries):\n    final_list = []\n    for technology in technologies:\n        number_of_jobs_list = [technology]\n        for location in countries:\n            payload={\"Key Skills\": technology, \"Location\": location}\n            response=requests.get(api_url, params=payload)\n            if response.ok:\n                data=response.json()\n                number_of_jobs = len(data)\n                number_of_jobs_list.append(number_of_jobs)\n#         print(number_of_jobs_list)\n        final_list.append(number_of_jobs_list)\n    return final_list\n\nget_number_of_jobs_TL(technologies, countries)"
        },
        {
            "cell_type": "code",
            "execution_count": 23,
            "metadata": {},
            "outputs": [
                {
                    "data": {
                        "text/html": "<div>\n<style scoped>\n    .dataframe tbody tr th:only-of-type {\n        vertical-align: middle;\n    }\n\n    .dataframe tbody tr th {\n        vertical-align: top;\n    }\n\n    .dataframe thead th {\n        text-align: right;\n    }\n</style>\n<table border=\"1\" class=\"dataframe\">\n  <thead>\n    <tr style=\"text-align: right;\">\n      <th></th>\n      <th>Technology</th>\n      <th>Los Angeles</th>\n      <th>New York</th>\n      <th>San Francisco</th>\n      <th>Washington DC</th>\n      <th>Seattle</th>\n      <th>Austin</th>\n      <th>Detroit</th>\n    </tr>\n  </thead>\n  <tbody>\n    <tr>\n      <th>0</th>\n      <td>C</td>\n      <td>0</td>\n      <td>0</td>\n      <td>0</td>\n      <td>1</td>\n      <td>1</td>\n      <td>0</td>\n      <td>1</td>\n    </tr>\n    <tr>\n      <th>1</th>\n      <td>C|</td>\n      <td>9</td>\n      <td>68</td>\n      <td>12</td>\n      <td>111</td>\n      <td>62</td>\n      <td>18</td>\n      <td>71</td>\n    </tr>\n    <tr>\n      <th>2</th>\n      <td>C#</td>\n      <td>5</td>\n      <td>41</td>\n      <td>3</td>\n      <td>68</td>\n      <td>49</td>\n      <td>5</td>\n      <td>60</td>\n    </tr>\n    <tr>\n      <th>3</th>\n      <td>c#</td>\n      <td>2</td>\n      <td>21</td>\n      <td>6</td>\n      <td>40</td>\n      <td>25</td>\n      <td>4</td>\n      <td>27</td>\n    </tr>\n    <tr>\n      <th>4</th>\n      <td>C++</td>\n      <td>3</td>\n      <td>43</td>\n      <td>3</td>\n      <td>55</td>\n      <td>41</td>\n      <td>4</td>\n      <td>32</td>\n    </tr>\n    <tr>\n      <th>5</th>\n      <td>c++</td>\n      <td>4</td>\n      <td>24</td>\n      <td>5</td>\n      <td>37</td>\n      <td>22</td>\n      <td>4</td>\n      <td>27</td>\n    </tr>\n    <tr>\n      <th>6</th>\n      <td>Java</td>\n      <td>5</td>\n      <td>12</td>\n      <td>2</td>\n      <td>21</td>\n      <td>17</td>\n      <td>2</td>\n      <td>11</td>\n    </tr>\n    <tr>\n      <th>7</th>\n      <td>Java|</td>\n      <td>17</td>\n      <td>121</td>\n      <td>12</td>\n      <td>209</td>\n      <td>132</td>\n      <td>9</td>\n      <td>143</td>\n    </tr>\n    <tr>\n      <th>8</th>\n      <td>java|</td>\n      <td>15</td>\n      <td>55</td>\n      <td>7</td>\n      <td>83</td>\n      <td>63</td>\n      <td>5</td>\n      <td>71</td>\n    </tr>\n    <tr>\n      <th>9</th>\n      <td>java</td>\n      <td>0</td>\n      <td>3</td>\n      <td>0</td>\n      <td>7</td>\n      <td>6</td>\n      <td>1</td>\n      <td>10</td>\n    </tr>\n    <tr>\n      <th>10</th>\n      <td>JAVA</td>\n      <td>0</td>\n      <td>0</td>\n      <td>0</td>\n      <td>1</td>\n      <td>0</td>\n      <td>0</td>\n      <td>0</td>\n    </tr>\n    <tr>\n      <th>11</th>\n      <td>JAVA|</td>\n      <td>0</td>\n      <td>4</td>\n      <td>0</td>\n      <td>7</td>\n      <td>5</td>\n      <td>0</td>\n      <td>4</td>\n    </tr>\n    <tr>\n      <th>12</th>\n      <td>JavaScript</td>\n      <td>7</td>\n      <td>51</td>\n      <td>7</td>\n      <td>61</td>\n      <td>52</td>\n      <td>5</td>\n      <td>41</td>\n    </tr>\n    <tr>\n      <th>13</th>\n      <td>Javascript</td>\n      <td>26</td>\n      <td>183</td>\n      <td>22</td>\n      <td>290</td>\n      <td>192</td>\n      <td>19</td>\n      <td>189</td>\n    </tr>\n    <tr>\n      <th>14</th>\n      <td>javascript</td>\n      <td>14</td>\n      <td>52</td>\n      <td>7</td>\n      <td>76</td>\n      <td>57</td>\n      <td>5</td>\n      <td>63</td>\n    </tr>\n    <tr>\n      <th>15</th>\n      <td>Python</td>\n      <td>24</td>\n      <td>143</td>\n      <td>17</td>\n      <td>258</td>\n      <td>133</td>\n      <td>15</td>\n      <td>170</td>\n    </tr>\n    <tr>\n      <th>16</th>\n      <td>Scala</td>\n      <td>0</td>\n      <td>8</td>\n      <td>0</td>\n      <td>3</td>\n      <td>4</td>\n      <td>1</td>\n      <td>5</td>\n    </tr>\n    <tr>\n      <th>17</th>\n      <td>SCALA</td>\n      <td>0</td>\n      <td>6</td>\n      <td>1</td>\n      <td>6</td>\n      <td>7</td>\n      <td>2</td>\n      <td>13</td>\n    </tr>\n    <tr>\n      <th>18</th>\n      <td>scala</td>\n      <td>1</td>\n      <td>5</td>\n      <td>0</td>\n      <td>12</td>\n      <td>1</td>\n      <td>0</td>\n      <td>7</td>\n    </tr>\n    <tr>\n      <th>19</th>\n      <td>Oracle</td>\n      <td>17</td>\n      <td>95</td>\n      <td>19</td>\n      <td>143</td>\n      <td>110</td>\n      <td>11</td>\n      <td>115</td>\n    </tr>\n    <tr>\n      <th>20</th>\n      <td>oracle</td>\n      <td>6</td>\n      <td>18</td>\n      <td>0</td>\n      <td>21</td>\n      <td>16</td>\n      <td>2</td>\n      <td>16</td>\n    </tr>\n    <tr>\n      <th>21</th>\n      <td>SQL Server</td>\n      <td>2</td>\n      <td>34</td>\n      <td>2</td>\n      <td>47</td>\n      <td>26</td>\n      <td>5</td>\n      <td>28</td>\n    </tr>\n    <tr>\n      <th>22</th>\n      <td>sql</td>\n      <td>14</td>\n      <td>55</td>\n      <td>7</td>\n      <td>72</td>\n      <td>45</td>\n      <td>4</td>\n      <td>46</td>\n    </tr>\n    <tr>\n      <th>23</th>\n      <td>SQL</td>\n      <td>28</td>\n      <td>214</td>\n      <td>22</td>\n      <td>333</td>\n      <td>197</td>\n      <td>30</td>\n      <td>216</td>\n    </tr>\n    <tr>\n      <th>24</th>\n      <td>|sql</td>\n      <td>0</td>\n      <td>4</td>\n      <td>0</td>\n      <td>6</td>\n      <td>1</td>\n      <td>0</td>\n      <td>3</td>\n    </tr>\n    <tr>\n      <th>25</th>\n      <td>|SQL</td>\n      <td>1</td>\n      <td>8</td>\n      <td>1</td>\n      <td>22</td>\n      <td>9</td>\n      <td>0</td>\n      <td>16</td>\n    </tr>\n    <tr>\n      <th>26</th>\n      <td>MySQL</td>\n      <td>20</td>\n      <td>93</td>\n      <td>20</td>\n      <td>132</td>\n      <td>97</td>\n      <td>13</td>\n      <td>93</td>\n    </tr>\n    <tr>\n      <th>27</th>\n      <td>mysql</td>\n      <td>2</td>\n      <td>25</td>\n      <td>4</td>\n      <td>29</td>\n      <td>24</td>\n      <td>4</td>\n      <td>30</td>\n    </tr>\n    <tr>\n      <th>28</th>\n      <td>Mysql</td>\n      <td>0</td>\n      <td>0</td>\n      <td>0</td>\n      <td>0</td>\n      <td>2</td>\n      <td>0</td>\n      <td>1</td>\n    </tr>\n    <tr>\n      <th>29</th>\n      <td>PostgreSQL</td>\n      <td>0</td>\n      <td>1</td>\n      <td>0</td>\n      <td>3</td>\n      <td>1</td>\n      <td>0</td>\n      <td>2</td>\n    </tr>\n    <tr>\n      <th>30</th>\n      <td>PostGreSQL</td>\n      <td>0</td>\n      <td>0</td>\n      <td>0</td>\n      <td>0</td>\n      <td>1</td>\n      <td>0</td>\n      <td>0</td>\n    </tr>\n    <tr>\n      <th>31</th>\n      <td>postgresql</td>\n      <td>0</td>\n      <td>1</td>\n      <td>1</td>\n      <td>3</td>\n      <td>3</td>\n      <td>0</td>\n      <td>1</td>\n    </tr>\n    <tr>\n      <th>32</th>\n      <td>MongoDB</td>\n      <td>2</td>\n      <td>25</td>\n      <td>2</td>\n      <td>32</td>\n      <td>21</td>\n      <td>1</td>\n      <td>25</td>\n    </tr>\n    <tr>\n      <th>33</th>\n      <td>mongodb</td>\n      <td>2</td>\n      <td>4</td>\n      <td>0</td>\n      <td>3</td>\n      <td>3</td>\n      <td>0</td>\n      <td>5</td>\n    </tr>\n    <tr>\n      <th>34</th>\n      <td>MongoDb</td>\n      <td>0</td>\n      <td>1</td>\n      <td>0</td>\n      <td>1</td>\n      <td>0</td>\n      <td>0</td>\n      <td>1</td>\n    </tr>\n  </tbody>\n</table>\n</div>",
                        "text/plain": "     Technology  Los Angeles  New York  San Francisco  Washington DC  Seattle  \\\n0            C             0         0              0              1        1   \n1            C|            9        68             12            111       62   \n2            C#            5        41              3             68       49   \n3            c#            2        21              6             40       25   \n4           C++            3        43              3             55       41   \n5           c++            4        24              5             37       22   \n6         Java             5        12              2             21       17   \n7         Java|           17       121             12            209      132   \n8         java|           15        55              7             83       63   \n9         java             0         3              0              7        6   \n10        JAVA             0         0              0              1        0   \n11        JAVA|            0         4              0              7        5   \n12   JavaScript            7        51              7             61       52   \n13   Javascript           26       183             22            290      192   \n14   javascript           14        52              7             76       57   \n15       Python           24       143             17            258      133   \n16        Scala            0         8              0              3        4   \n17        SCALA            0         6              1              6        7   \n18        scala            1         5              0             12        1   \n19       Oracle           17        95             19            143      110   \n20       oracle            6        18              0             21       16   \n21   SQL Server            2        34              2             47       26   \n22          sql           14        55              7             72       45   \n23          SQL           28       214             22            333      197   \n24         |sql            0         4              0              6        1   \n25         |SQL            1         8              1             22        9   \n26        MySQL           20        93             20            132       97   \n27        mysql            2        25              4             29       24   \n28        Mysql            0         0              0              0        2   \n29   PostgreSQL            0         1              0              3        1   \n30   PostGreSQL            0         0              0              0        1   \n31   postgresql            0         1              1              3        3   \n32      MongoDB            2        25              2             32       21   \n33      mongodb            2         4              0              3        3   \n34      MongoDb            0         1              0              1        0   \n\n    Austin  Detroit  \n0        0        1  \n1       18       71  \n2        5       60  \n3        4       27  \n4        4       32  \n5        4       27  \n6        2       11  \n7        9      143  \n8        5       71  \n9        1       10  \n10       0        0  \n11       0        4  \n12       5       41  \n13      19      189  \n14       5       63  \n15      15      170  \n16       1        5  \n17       2       13  \n18       0        7  \n19      11      115  \n20       2       16  \n21       5       28  \n22       4       46  \n23      30      216  \n24       0        3  \n25       0       16  \n26      13       93  \n27       4       30  \n28       0        1  \n29       0        2  \n30       0        0  \n31       0        1  \n32       1       25  \n33       0        5  \n34       0        1  "
                    },
                    "execution_count": 23,
                    "metadata": {},
                    "output_type": "execute_result"
                }
            ],
            "source": "data = get_number_of_jobs_TL(technologies, countries)\ndf_data = pd.DataFrame(data, columns=['Technology', 'Los Angeles', 'New York', 'San Francisco', 'Washington DC', 'Seattle', 'Austin', 'Detroit'])\ndf_data"
        },
        {
            "cell_type": "code",
            "execution_count": 62,
            "metadata": {},
            "outputs": [
                {
                    "name": "stdout",
                    "output_type": "stream",
                    "text": "Dataframe is written to Excel\n"
                }
            ],
            "source": "file_name = \"job-postings.xlsx\"\ndf_data.to_excel(file_name)\nprint(\"Dataframe is written to Excel\")"
        },
        {
            "cell_type": "markdown",
            "metadata": {},
            "source": "## Author\n"
        },
        {
            "cell_type": "markdown",
            "metadata": {},
            "source": "Ayushi Jain\n"
        },
        {
            "cell_type": "markdown",
            "metadata": {},
            "source": "### Other Contributors\n"
        },
        {
            "cell_type": "markdown",
            "metadata": {},
            "source": "Rav Ahuja\n\nLakshmi Holla\n\nMalika\n"
        },
        {
            "cell_type": "markdown",
            "metadata": {},
            "source": "## Change Log\n"
        },
        {
            "cell_type": "markdown",
            "metadata": {},
            "source": "| Date (YYYY-MM-DD) | Version | Changed By        | Change Description                 |\n| ----------------- | ------- | ----------------- | ---------------------------------- |\n| 2022-01-19        | 0.3     | Lakshmi Holla     | Added changes in the markdown      |\n| 2021-06-25        | 0.2     | Malika            | Updated GitHub job json link       |\n| 2020-10-17        | 0.1     | Ramesh Sannareddy | Created initial version of the lab |\n"
        },
        {
            "cell_type": "markdown",
            "metadata": {},
            "source": "Copyright \u00a9 2022 IBM Corporation. All rights reserved.\n"
        }
    ],
    "metadata": {
        "kernelspec": {
            "display_name": "Python 3.8",
            "language": "python",
            "name": "python3"
        },
        "language_info": {
            "codemirror_mode": {
                "name": "ipython",
                "version": 3
            },
            "file_extension": ".py",
            "mimetype": "text/x-python",
            "name": "python",
            "nbconvert_exporter": "python",
            "pygments_lexer": "ipython3",
            "version": "3.8.12"
        }
    },
    "nbformat": 4,
    "nbformat_minor": 4
}